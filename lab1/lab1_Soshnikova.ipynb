{
 "cells": [
  {
   "cell_type": "markdown",
   "id": "f5188804-b639-414d-8a22-e51640be8a35",
   "metadata": {},
   "source": [
    "# Пункт 1-3 індивідуального завдання."
   ]
  },
  {
   "cell_type": "markdown",
   "id": "b64f7899-1df5-4bff-ba20-73cab6433d5d",
   "metadata": {},
   "source": [
    "![](pictures/pic1.png)\n"
   ]
  },
  {
   "cell_type": "markdown",
   "id": "40e0a828-c9f4-4519-8fbd-d8d405e00464",
   "metadata": {},
   "source": [
    "![](pictures/pic2.png)\n"
   ]
  },
  {
   "cell_type": "markdown",
   "id": "c3134b01-34ea-459c-9ea6-4487323ae7a7",
   "metadata": {},
   "source": [
    "![](pictures/pic3_.png)\n"
   ]
  },
  {
   "cell_type": "markdown",
   "id": "53ec77b9-4090-4c8b-8c1a-099675d4f762",
   "metadata": {},
   "source": [
    "![](pictures/pic4.png)\n"
   ]
  },
  {
   "cell_type": "markdown",
   "id": "2444ad98-3c03-483a-bce9-13b9eef7575f",
   "metadata": {},
   "source": [
    "![](pictures/pic5.png)\n"
   ]
  },
  {
   "cell_type": "markdown",
   "id": "af614154-992e-45e8-bc84-63e843ac6a30",
   "metadata": {},
   "source": [
    "1. Pip і Conda — це два популярних менеджери пакетів для Python.<br>\n",
    "   Pip — це стандартний менеджер пакетів для Python, який входить до складу Python .<br>\n",
    "   Conda — це менеджер пакетів, який є частиною Anaconda Distribution"
   ]
  },
  {
   "cell_type": "markdown",
   "id": "5fadf502-78e7-4da2-b73d-3f2f449754a4",
   "metadata": {},
   "source": [
    "2. pip install virtualenv ;<br>\n",
    "  virtualenv Soshnikova_OpenCV ;<br>\n",
    "  Soshnikova_OpenCV\\Scripts\\activate ;<br>\n",
    "  pip install opencv-python ;\n",
    "<br>\n",
    "4."
   ]
  },
  {
   "cell_type": "code",
   "execution_count": 1,
   "id": "58d78a6f-cc0b-4852-9c03-4fc6378fda12",
   "metadata": {},
   "outputs": [
    {
     "name": "stdout",
     "output_type": "stream",
     "text": [
      "Невідсортований масив: [64, 34, 25, 12, 22, 11, 90]\n",
      "Відсортований масив: [11, 12, 22, 25, 34, 64, 90]\n"
     ]
    }
   ],
   "source": [
    "def bubble_sort(arr):\n",
    "    n = len(arr)\n",
    "    \n",
    "    # Проходимо по всіх елементах масиву\n",
    "    for i in range(n):\n",
    "        # Останні i елементів уже відсортовані, тому їх не треба перевіряти\n",
    "        for j in range(0, n - i - 1):\n",
    "            # Якщо поточний елемент більше наступного, то міняємо їх місцями\n",
    "            if arr[j] > arr[j + 1]:\n",
    "                arr[j], arr[j + 1] = arr[j + 1], arr[j]\n",
    "\n",
    "# Приклад використання:\n",
    "arr = [64, 34, 25, 12, 22, 11, 90]\n",
    "print(\"Невідсортований масив:\", arr)\n",
    "\n",
    "bubble_sort(arr)\n",
    "\n",
    "print(\"Відсортований масив:\", arr)"
   ]
  },
  {
   "cell_type": "markdown",
   "id": "55229637-c7b5-42f1-814a-c6168eebb53b",
   "metadata": {},
   "source": [
    "4. 1.   Відкрий свій Jupyter Notebook\n",
    "   2.   В меню File оберати Download as.\n",
    "    Тепер ти можеш вибрати формат, в який хочеш експортувати ноутбук.(.ipynb,.html,.md..)"
   ]
  }
 ],
 "metadata": {
  "kernelspec": {
   "display_name": "Python 3 (ipykernel)",
   "language": "python",
   "name": "python3"
  },
  "language_info": {
   "codemirror_mode": {
    "name": "ipython",
    "version": 3
   },
   "file_extension": ".py",
   "mimetype": "text/x-python",
   "name": "python",
   "nbconvert_exporter": "python",
   "pygments_lexer": "ipython3",
   "version": "3.12.7"
  }
 },
 "nbformat": 4,
 "nbformat_minor": 5
}
