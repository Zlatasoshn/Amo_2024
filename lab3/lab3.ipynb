{
 "cells": [
  {
   "cell_type": "raw",
   "id": "e5314627-f922-4294-9346-d7b78cd12f17",
   "metadata": {},
   "source": [
    "1)Символ Ω використовується для позначення нижньої межі часу виконання алгоритму або складності задачі.\n",
    "Це означає, що для будь-якого алгоритму, що вирішує певну задачу, час виконання не може бути меншим за певну функцію \n",
    "при достатньо великих вхідних даних."
   ]
  },
  {
   "cell_type": "markdown",
   "id": "7af68bc4-4cba-4e65-89ba-7a56b41b7f85",
   "metadata": {},
   "source": [
    "2)$f(n)=n^3+7n^2-14n$&nbsp;&nbsp;&nbsp;&nbsp; $g(n)=O(n^3)$&nbsp;&nbsp;&nbsp;&nbsp; $O(g(n))=n^3$ &nbsp;&nbsp;&nbsp;&nbsp;$n^3+7n^2-14n<=cn^3$ &nbsp;&nbsp;&nbsp;&nbsp;$n^3+7n^2-14n<=n^3+7n^3-14n^3$ &nbsp;&nbsp;&nbsp;&nbsp;n0=1 c=6"
   ]
  },
  {
   "cell_type": "markdown",
   "id": "e4c67307-680e-439f-b8c9-9698af833668",
   "metadata": {},
   "source": [
    "3)![](pictures/lab3_1.bmp)"
   ]
  },
  {
   "cell_type": "markdown",
   "id": "ed24579e-6ad6-47a2-b816-14dc4bf0da5f",
   "metadata": {},
   "source": [
    "$g(n)=O(1.01^n)$  <p>    </p>  $1.01^n+n^{10}<=C*1.01^n$ <p>    </p>$1.01^n+n^{10}<=n^{11}+1.01^n$ <p>    </p>n0=1 C=1"
   ]
  },
  {
   "cell_type": "markdown",
   "id": "d4c81df9-20e0-4504-82f5-e9c91eb924d1",
   "metadata": {},
   "source": [
    "4)![](pictures/lab3_2.bmp)"
   ]
  },
  {
   "cell_type": "markdown",
   "id": "40b4dd82-d40d-4149-ad0a-0a8016c2d5ce",
   "metadata": {},
   "source": [
    "$g(n)=O(n^{1.3})$  <p>    </p>  $n^{1.3}+10log2n<=C*n^{1.3}$ <p>    </p>$n^{1.3}+10log2n<=n^2+n^{1.3}$ <p>    </p>n0=1 C=1"
   ]
  },
  {
   "cell_type": "markdown",
   "id": "dc618998-7aa3-4cec-8e5c-b0f7f9255e41",
   "metadata": {},
   "source": [
    "5)Ідея розпаралелювання обчислень<br>\n",
    "Розпаралелювання обчислень полягає в тому, щоб виконувати незалежні підзадачі одночасно <br>\n",
    "(на різних ядрах процесора або в різних потоках). Це дозволяє скоротити час виконання задачі.<br>\n",
    "Для чого використовується розпаралелювання:<br>\n",
    "1.Збільшення швидкості виконання складних обчислень.<br>\n",
    "2.Використання можливостей багатоядерних процесорів.<br>"
   ]
  },
  {
   "cell_type": "markdown",
   "id": "e6adabd2-7e68-4d86-bdd4-0e4dee06407e",
   "metadata": {},
   "source": [
    "Сортування злиттям: добре підходить для розпаралелювання завдяки незалежності підзадач.<br>\n",
    "Числа Фібоначчі: дозволяють розпаралелювання, але ефективніше використовувати динамічне програмування.<br>\n",
    "Факторіал: стандартний підхід не дозволяє розпаралелювання, але можлива оптимізація через паралельний добуток.<br>"
   ]
  },
  {
   "cell_type": "markdown",
   "id": "60be0303",
   "metadata": {},
   "source": [
    "6)Шляхи підвищення обчислювальної швидкості алгоритмів<br>\n",
    "1.Оптимізація алгоритму 2.Розпаралелювання обчислень 3.Використання спеціалізованого обладнання <br>4.Покращення коду 5.Зменшення обсягу вхідних даних 6.Зміна парадигми обчислень"
   ]
  },
  {
   "cell_type": "markdown",
   "id": "bba774fc-18de-4ba5-aa9b-7eda0779f637",
   "metadata": {},
   "source": [
    "![](pictures/lab3_3.bmp)"
   ]
  }
 ],
 "metadata": {
  "kernelspec": {
   "display_name": "Python 3 (ipykernel)",
   "language": "python",
   "name": "python3"
  },
  "language_info": {
   "codemirror_mode": {
    "name": "ipython",
    "version": 3
   },
   "file_extension": ".py",
   "mimetype": "text/x-python",
   "name": "python",
   "nbconvert_exporter": "python",
   "pygments_lexer": "ipython3",
   "version": "3.12.7"
  }
 },
 "nbformat": 4,
 "nbformat_minor": 5
}
