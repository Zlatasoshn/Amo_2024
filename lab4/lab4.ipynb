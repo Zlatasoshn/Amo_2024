{
 "cells": [
  {
   "cell_type": "raw",
   "id": "e5314627-f922-4294-9346-d7b78cd12f17",
   "metadata": {},
   "source": [
    "1)Символ Ω використовується для позначення нижньої межі часу виконання алгоритму або складності задачі.\n",
    "Це означає, що для будь-якого алгоритму, що вирішує певну задачу, час виконання не може бути меншим за певну функцію \n",
    "при достатньо великих вхідних даних."
   ]
  },
  {
   "cell_type": "markdown",
   "id": "7af68bc4-4cba-4e65-89ba-7a56b41b7f85",
   "metadata": {},
   "source": [
    "2)$f(n)=n^3+7n^2-14n$&nbsp;&nbsp;&nbsp;&nbsp; $g(n)=O(n^3)$&nbsp;&nbsp;&nbsp;&nbsp; $O(g(n))=n^3$ &nbsp;&nbsp;&nbsp;&nbsp;$n^3+7n^2-14n<=cn^3$ &nbsp;&nbsp;&nbsp;&nbsp;$n^3+7n^2-14n<=n^3+7n^3-14n^3$ &nbsp;&nbsp;&nbsp;&nbsp;n0=1 c=6"
   ]
  },
  {
   "cell_type": "markdown",
   "id": "e4c67307-680e-439f-b8c9-9698af833668",
   "metadata": {},
   "source": [
    "3)![](pictures/lab3_1.bmp)"
   ]
  },
  {
   "cell_type": "markdown",
   "id": "ed24579e-6ad6-47a2-b816-14dc4bf0da5f",
   "metadata": {},
   "source": [
    "$g(n)=O(1.01^n)$  <p>    </p>  $1.01^n+n^{10}<=C*1.01^n$ <p>    </p>$1.01^n+n^{10}<=n^{11}+1.01^n$ <p>    </p>n0=1 C=1"
   ]
  },
  {
   "cell_type": "markdown",
   "id": "d4c81df9-20e0-4504-82f5-e9c91eb924d1",
   "metadata": {},
   "source": [
    "4)![](pictures/lab3_2.bmp)"
   ]
  },
  {
   "cell_type": "markdown",
   "id": "40b4dd82-d40d-4149-ad0a-0a8016c2d5ce",
   "metadata": {},
   "source": [
    "$g(n)=O(n^{1.3})$  <p>    </p>  $n^{1.3}+10log2n<=C*n^{1.3}$ <p>    </p>$n^{1.3}+10log2n<=n^2+n^{1.3}$ <p>    </p>n0=1 C=1"
   ]
  },
  {
   "cell_type": "markdown",
   "id": "dc618998-7aa3-4cec-8e5c-b0f7f9255e41",
   "metadata": {},
   "source": [
    "5)Ідея розпаралелювання обчислень<br>\n",
    "Розпаралелювання обчислень полягає в тому, щоб виконувати незалежні підзадачі одночасно <br>\n",
    "(на різних ядрах процесора або в різних потоках). Це дозволяє скоротити час виконання задачі.<br>\n",
    "Для чого використовується розпаралелювання:<br>\n",
    "1.Збільшення швидкості виконання складних обчислень.<br>\n",
    "2.Використання можливостей багатоядерних процесорів.<br>"
   ]
  },
  {
   "cell_type": "markdown",
   "id": "e6adabd2-7e68-4d86-bdd4-0e4dee06407e",
   "metadata": {},
   "source": [
    "Лінійний пошук легко розпаралелити, розділивши масив на частини та запустивши пошук паралельно.<br>\n",
    "Бінарний пошук майже неможливо ефективно розпаралелити через послідовну залежність кожної ітерації від попередньої.<br>\n",
    "Якщо ви працюєте з великими масивами, розпаралелювання лінійного пошуку може дати значне прискорення.<br>\n",
    "Бінарний пошук і так досить швидкий, тому розпаралелювання зазвичай не потрібне.<br>"
   ]
  },
  {
   "cell_type": "markdown",
   "id": "60be0303",
   "metadata": {},
   "source": [
    "6)Шляхи підвищення обчислювальної швидкості алгоритмів<br>\n",
    "1.Оптимізація алгоритму 2.Розпаралелювання обчислень 3.Використання спеціалізованого обладнання <br>4.Покращення коду 5.Зменшення обсягу вхідних даних 6.Зміна парадигми обчислень"
   ]
  },
  {
   "cell_type": "markdown",
   "id": "bba774fc-18de-4ba5-aa9b-7eda0779f637",
   "metadata": {},
   "source": [
    "![](pictures/lab3_3.bmp)"
   ]
  },
  {
   "cell_type": "markdown",
   "id": "bc505f65-278f-441e-a710-6bcf8aedd37e",
   "metadata": {},
   "source": [
    "<h1>Завдання на самостійне опрацювання </h1>"
   ]
  },
  {
   "cell_type": "markdown",
   "id": "af3da885-18fc-4893-b6c7-3f877e713805",
   "metadata": {},
   "source": [
    "**1. Оцінити асимптотичну складність алгоритму лінійного пошуку у О-нотації.**"
   ]
  },
  {
   "cell_type": "markdown",
   "id": "45af5552-4972-4cce-8dec-f62a964b818b",
   "metadata": {},
   "source": [
    "###  **Асимптотична складність лінійного пошуку**\n",
    "\n",
    "Лінійний пошук — це простий алгоритм, у якому елемент шукається шляхом послідовної перевірки кожного елемента масиву.\n",
    "\n",
    "\n",
    "###  **Аналіз часу роботи лінійного пошуку**\n",
    "1. **Найгірший випадок** — шуканий елемент або знаходиться в кінці масиву, або його немає зовсім. У цьому випадку потрібно перевірити всі \\( n \\) елементів масиву.  \n",
    "2. **Найкращий випадок** — елемент знаходиться на першій позиції, і ми завершуємо пошук за 1 ітерацію.  \n",
    "3. **Середній випадок** — припустимо, що елемент з рівною ймовірністю може знаходитися в будь-якій позиції. У середньому потрібно перевірити половину масиву, тобто \\( n / 2 \\) елементів.  \n",
    "\n",
    "\n",
    "###  **Оцінка часу роботи лінійного пошуку**\n",
    "\n",
    "| **Випадок**          | **Кількість перевірок** | **Асимптотична складність** |\n",
    "|---------------------|-----------------------|----------------------------|\n",
    "| **Найгірший**         | \\( n \\)                | \\( O(n) \\)                  |\n",
    "| **Середній**          | \\( n / 2 \\)           | \\( O(n) \\) (постійні коефіцієнти ігноруються) |\n",
    "| **Найкращий**         | 1                     | \\( O(1) \\)                   |\n",
    "\n",
    "\n",
    "###  **Асимптотична складність**\n",
    "- У загальному випадку, навіть якщо шуканий елемент знаходиться в середині масиву або ближче до кінця, доведеться переглядати більшу частину елементів.  \n",
    "- Таким чином, **найгірший випадок** визначає асимптотичну складність, яка дорівнює:  \n",
    "  \\[\n",
    "  O(n)\n",
    "  \\]\n",
    "  Це означає, що час виконання алгоритму зростає лінійно зі збільшенням розміру масиву \\( n \\).  \n"
   ]
  },
  {
   "cell_type": "markdown",
   "id": "7cb54338-bcf0-4736-8655-83dfef342a4a",
   "metadata": {},
   "source": [
    "**2.Оцінити асимптотичну складність алгоритму бінарного пошуку пошуку у О-нотації.**"
   ]
  },
  {
   "cell_type": "markdown",
   "id": "5c91b20e-49c7-40ec-a0a4-930ae51bff92",
   "metadata": {},
   "source": [
    "###  **Асимптотична складність бінарного пошуку**\n",
    "\n",
    "Бінарний пошук — це ефективний алгоритм пошуку елементу в відсортованому масиві шляхом поділу масиву навпіл на кожній ітерації.\n",
    "\n",
    "---\n",
    "\n",
    "### **Аналіз роботи бінарного пошуку**\n",
    "1. **Вхідні дані** — відсортований масив із \\( n \\) елементів.  \n",
    "2. **Алгоритм** — на кожній ітерації масив ділиться навпіл, і пошук триває лише в одній половині масиву.  \n",
    "3. **Кількість ітерацій** — на кожній ітерації розмір масиву зменшується від \\( n \\) до \\( n/2 \\), потім до \\( n/4 \\), \\( n/8 \\) і так далі.  \n",
    "\n",
    "---\n",
    "\n",
    "###  **Оцінка кількості ітерацій**\n",
    "На кожному кроці розмір підмасиву зменшується вдвічі:  \n",
    "\\[\n",
    "$n, \\frac{n}{2}, \\frac{n}{4}, \\frac{n}{8}, \\dots, 1$\n",
    "\\]\n",
    "Кількість ітерацій \\( k \\) досягне 1, коли:  \n",
    "\\[\n",
    "$frac{n}{2^k} = 1$\n",
    "\\]\n",
    "Розв'яжемо це рівняння відносно \\( k \\):  \n",
    "\\[\n",
    "$n = 2^k \\implies k = \\log_2(n)$\n",
    "\\]\n",
    "Отже, для масиву розміру \\( n \\) потрібно зробити приблизно \\( \\\n",
    "$log_2(n)$ \\)ітерацій.\n",
    "\n",
    "---\n",
    "\n",
    "###  **Асимптотична складність**\n",
    "- У найгіршому випадку елемент буде знайдено лише на останній ітерації.  \n",
    "- Час виконання залежить від кількості ітерацій, яка дорівнює \\( \\log_2(n) \\).  \n",
    "- Постійні множники та додаткові константи ігноруються в нотації \\( O \\).  \n",
    "- Отже, асимптотична складність бінарного пошуку:  \n",
    "  \\[\n",
    "  O(\\log n)\n",
    "  \\]\n",
    "\n",
    "---\n",
    "\n",
    "###  **Часова складність бінарного пошуку**\n",
    "\n",
    "| **Випадок**          | **Кількість ітерацій** | **Асимптотична складність** |\n",
    "|---------------------|-----------------------|----------------------------|\n",
    "| **Найгірший**         | \\( \\log_2(n) \\)       | \\( O(\\log n) \\)             |\n",
    "| **Середній**          | \\( \\log_2(n) \\)       | \\( O(\\log n) \\)             |\n",
    "| **Найкращий**         | 1                     | \\( O(1) \\)                  |\n",
    "\n",
    "---\n",
    "\n",
    "###  **Висновок**\n",
    "- **Бінарний пошук** має складність \\( O(\\log n) \\) у найгіршому та середньому випадках.  \n",
    "- У найкращому випадку елемент знаходиться з першої спроби, тому складність — \\( O(1) \\).  \n",
    "- Завдяки своїй ефективності бінарний пошук значно швидший за лінійний пошук для відсортованих масивів.  \n",
    "\n"
   ]
  },
  {
   "cell_type": "markdown",
   "id": "8f71f48c-baa7-4035-b7be-7bde0de8f7d0",
   "metadata": {},
   "source": [
    "**3.Написати функцію, яка б могла повертати датафрейм з наступним складом полів: (“n”, “time”), де n – розмір масиву для функції `linear_searh();**"
   ]
  },
  {
   "cell_type": "code",
   "execution_count": 38,
   "id": "78b77df5-90bf-42cf-a308-cfdff40149eb",
   "metadata": {},
   "outputs": [
    {
     "name": "stdout",
     "output_type": "stream",
     "text": [
      "          n      time\n",
      "0    600000  0.114928\n",
      "1    700000  0.123924\n",
      "2    900000  0.157902\n",
      "3   1200000  0.220045\n",
      "4  13000000  2.348974\n"
     ]
    }
   ],
   "source": [
    "import time\n",
    "import pandas as pd\n",
    "import random\n",
    "\n",
    "\n",
    "def linear_search(a_list, x):\n",
    "    i, length = 0, len(a_list)\n",
    "    while i < length and x != a_list[i]:\n",
    "        i += 1\n",
    "    return i if i < length else -1\n",
    "\n",
    "\n",
    "def linear_search_time(n_values):\n",
    "    times = []\n",
    "    for n in n_values:\n",
    "        a_list = random.sample(range(1, 10*n), n)  \n",
    "        start_time = time.time()\n",
    "        linear_search(a_list, -1)  \n",
    "        end_time = time.time()\n",
    "        times.append(end_time - start_time)  \n",
    "    return pd.DataFrame({'n': n_values, 'time': times})\n",
    "\n",
    "# Тестування функції\n",
    "n_values = [600000, 700000, 900000, 1200000, 13000000]  \n",
    "linear_df = linear_search_time(n_values)\n",
    "print(linear_df)"
   ]
  },
  {
   "cell_type": "markdown",
   "id": "e6490a5c-d68e-4d3c-b110-074288f93bb0",
   "metadata": {},
   "source": [
    "**4.Написати функцію, яка б могла повертати датафрейм з наступним складом полів: (“n”, “time”), де n – розмір масиву для функції `bin_searh();**"
   ]
  },
  {
   "cell_type": "code",
   "execution_count": 39,
   "id": "f374d7a1-51b3-4def-94e6-ce3c15915bed",
   "metadata": {},
   "outputs": [
    {
     "name": "stdout",
     "output_type": "stream",
     "text": [
      "          n  time\n",
      "0    600000   0.0\n",
      "1    700000   0.0\n",
      "2    900000   0.0\n",
      "3   1200000   0.0\n",
      "4  13000000   0.0\n"
     ]
    }
   ],
   "source": [
    "def bin_search(a_list, x, left, right):\n",
    "    if left > right:\n",
    "        return -1\n",
    "    middle = (left + right) // 2\n",
    "    if a_list[middle] == x:\n",
    "        return middle\n",
    "    elif a_list[middle] < x:\n",
    "        return bin_search(a_list, x, middle + 1, right)\n",
    "    else:\n",
    "        return bin_search(a_list, x, left, middle - 1)\n",
    "\n",
    "\n",
    "def bin_search_time(n_values):\n",
    "    times = []\n",
    "    for n in n_values:\n",
    "        a_list = sorted(random.sample(range(1, 10*n), n))  \n",
    "        start_time = time.time()\n",
    "        bin_search(a_list, -1, 0, len(a_list) - 1)  \n",
    "        end_time = time.time()\n",
    "        times.append(end_time - start_time)  \n",
    "    return pd.DataFrame({'n': n_values, 'time': times})\n",
    "\n",
    "# Тестування функції\n",
    "bin_values = [600000, 700000, 900000, 1200000, 13000000]  \n",
    "bin_df = bin_search_time(bin_values)\n",
    "print(bin_df)"
   ]
  },
  {
   "cell_type": "markdown",
   "id": "2bc0b290-ee6d-489d-a520-fccb1476ed6c",
   "metadata": {},
   "source": [
    "**5.За результатами попередніх завдань побудувати графіки залежності часу виконання процедури пошуку від розміру масиву. Приклад побудови графіків у середовищі Ipython**"
   ]
  },
  {
   "cell_type": "code",
   "execution_count": 42,
   "id": "58c8cbb2-6ea3-485e-bb5b-b3f470b25e80",
   "metadata": {
    "scrolled": true
   },
   "outputs": [
    {
     "data": {
      "image/png": "[encoded data removed]",
      "text/plain": [
       "<Figure size 640x480 with 1 Axes>"
      ]
     },
     "metadata": {},
     "output_type": "display_data"
    }
   ],
   "source": [
    "import matplotlib.pyplot as plt\n",
    "\n",
    "# графіки\n",
    "def plot_time_comparison(linear_df, bin_df):\n",
    "    plt.plot(linear_df['n'], linear_df['time'], label='Лінійний пошук (O(n))', marker='o')\n",
    "    plt.plot(bin_df['n'], bin_df['time'], label='Бінарний пошук (O(log n))', marker='x')\n",
    "    \n",
    "    plt.xlabel('Розмір масиву (n)')\n",
    "    plt.ylabel('Час виконання (секунди)')\n",
    "    plt.title('Порівняння часу виконання  пошуку')\n",
    "    plt.legend()\n",
    "    plt.grid(True)\n",
    "    plt.show()\n",
    "\n",
    "#функції для графіка\n",
    "plot_time_comparison(linear_df, bin_df)"
   ]
  },
  {
   "cell_type": "markdown",
   "id": "ff845e66-ce6c-409b-bcef-43e4948670c9",
   "metadata": {},
   "source": [
    "**6.Оцінити, який з двох алгоритмів є більш ефективним та в якому діапазоні розміру задачі.**"
   ]
  },
  {
   "cell_type": "markdown",
   "id": "81e40017-135e-4077-8061-990181e1fb35",
   "metadata": {},
   "source": [
    "### Оцінка ефективності алгоритмів лінійного та бінарного пошуку\n",
    "\n",
    "#### 1. Асимптотична складність обох алгоритмів\n",
    "\n",
    "- **Лінійний пошук (Linear Search)**:\n",
    "  - **Складність**: \\(O(n)\\), де \\(n\\) — кількість елементів у масиві.\n",
    "  - Алгоритм перевіряє кожен елемент масиву по черзі, поки не знайде шукане значення або не завершить перегляд всіх елементів.\n",
    "  \n",
    "- **Бінарний пошук (Binary Search)**:\n",
    "  - **Складність**: \\(O(\\log n)\\), де \\(n\\) — кількість елементів у масиві.\n",
    "  - Алгоритм працює лише з відсортованими масивами. На кожному кроці він ділить масив навпіл і шукає в одній із половин, поки не знайде елемент або не виявить його відсутність.\n",
    "\n",
    "#### 2. Порівняння ефективності\n",
    "\n",
    "- **Масиви невеликого розміру**:\n",
    "  - Для невеликих масивів обидва алгоритми можуть працювати достатньо швидко, тому різниця в часі виконання може бути незначною.\n",
    "  - Лінійний пошук може бути ефективнішим, якщо вам не потрібно часто шукати елементи у малих масивах або якщо масив не відсортований.\n",
    "\n",
    "- **Масиви середнього розміру**:\n",
    "  - Якщо розмір масиву середній (наприклад, від 100 до 1000 елементів), **бінарний пошук** буде значно швидшим, ніж лінійний пошук. Бінарний пошук працює набагато швидше завдяки логарифмічній складності.\n",
    "\n",
    "- **Масиви великих розмірів**:\n",
    "  - При великих масивах (від 10,000 елементів і більше) **бінарний пошук** стає значно більш ефективним через свою логарифмічну складність \\(O(\\log n)\\) в порівнянні з лінійним пошуком \\(O(n)\\).\n",
    "  - Наприклад, для масиву розміру \\(n = 1,000,000\\) бінарний пошук виконається приблизно за \\(\n",
    "     $\\log_2(1,000,000) \\approx 20 $\\) кроків, тоді як лінійний пошук перевірить всі 1,000,000 елементів.\n",
    "\n",
    "### Тож:\n",
    "- Використовуйте **лінійний пошук**, коли масив невеликий або не відсортований.\n",
    "- Використовуйте **бінарний пошук**, коли масив великий і відсортований, оскільки він значно зменшує час виконання для великих розмірів задач.\n"
   ]
  }
 ],
 "metadata": {
  "kernelspec": {
   "display_name": "Python 3 (ipykernel)",
   "language": "python",
   "name": "python3"
  },
  "language_info": {
   "codemirror_mode": {
    "name": "ipython",
    "version": 3
   },
   "file_extension": ".py",
   "mimetype": "text/x-python",
   "name": "python",
   "nbconvert_exporter": "python",
   "pygments_lexer": "ipython3",
   "version": "3.12.7"
  }
 },
 "nbformat": 4,
 "nbformat_minor": 5
}
